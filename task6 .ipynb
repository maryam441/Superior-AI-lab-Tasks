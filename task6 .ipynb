{
 "cells": [
  {
   "cell_type": "markdown",
   "metadata": {},
   "source": [
    "Task 1"
   ]
  },
  {
   "cell_type": "code",
   "execution_count": 1,
   "metadata": {},
   "outputs": [
    {
     "name": "stdout",
     "output_type": "stream",
     "text": [
      "BFS Traversal (without queue): [0, 1, 2, 3, 4, 5]\n"
     ]
    }
   ],
   "source": [
    "def bfs_manual(graph, start):\n",
    "    visited = set()\n",
    "    result = []\n",
    "\n",
    "    def explore(nodes):\n",
    "        next_level = []\n",
    "        for node in nodes:\n",
    "            if node not in visited:\n",
    "                visited.add(node)\n",
    "                result.append(node)\n",
    "                next_level.extend(graph[node])\n",
    "        if next_level:\n",
    "            explore(next_level)\n",
    "\n",
    "    explore([start])\n",
    "    return result\n",
    "\n",
    "# Example usage (Graph as adjacency list)\n",
    "graph = {\n",
    "    0: [1, 2],\n",
    "    1: [3, 4],\n",
    "    2: [5],\n",
    "    3: [],\n",
    "    4: [],\n",
    "    5: []\n",
    "}\n",
    "\n",
    "print(\"BFS Traversal (without queue):\", bfs_manual(graph, 0))\n",
    "\n"
   ]
  },
  {
   "cell_type": "markdown",
   "metadata": {},
   "source": [
    "Task 2"
   ]
  },
  {
   "cell_type": "code",
   "execution_count": 2,
   "metadata": {},
   "outputs": [
    {
     "name": "stdout",
     "output_type": "stream",
     "text": [
      "BFS Traversal with Queue: [1, 2, 3, 4, 5]\n"
     ]
    }
   ],
   "source": [
    "from collections import deque\n",
    "\n",
    "class Node:\n",
    "    def __init__(self, value):\n",
    "        self.value = value\n",
    "        self.left = None\n",
    "        self.right = None\n",
    "\n",
    "def bfs_with_queue(root):\n",
    "    if root is None:\n",
    "        return []\n",
    "\n",
    "    queue = deque([root])\n",
    "    result = []\n",
    "\n",
    "    while queue:\n",
    "        node = queue.popleft()\n",
    "        result.append(node.value)\n",
    "\n",
    "        if node.left:\n",
    "            queue.append(node.left)\n",
    "        if node.right:\n",
    "            queue.append(node.right)\n",
    "\n",
    "    return result\n",
    "\n",
    "# Example usage\n",
    "root = Node(1)\n",
    "root.left = Node(2)\n",
    "root.right = Node(3)\n",
    "root.left.left = Node(4)\n",
    "root.left.right = Node(5)\n",
    "\n",
    "print(\"BFS Traversal with Queue:\", bfs_with_queue(root))\n",
    "\n"
   ]
  },
  {
   "cell_type": "code",
   "execution_count": null,
   "metadata": {},
   "outputs": [],
   "source": []
  }
 ],
 "metadata": {
  "kernelspec": {
   "display_name": "base",
   "language": "python",
   "name": "python3"
  },
  "language_info": {
   "codemirror_mode": {
    "name": "ipython",
    "version": 3
   },
   "file_extension": ".py",
   "mimetype": "text/x-python",
   "name": "python",
   "nbconvert_exporter": "python",
   "pygments_lexer": "ipython3",
   "version": "3.11.5"
  }
 },
 "nbformat": 4,
 "nbformat_minor": 2
}
