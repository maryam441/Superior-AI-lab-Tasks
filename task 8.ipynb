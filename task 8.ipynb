{
 "cells": [
  {
   "cell_type": "code",
   "execution_count": 2,
   "metadata": {},
   "outputs": [
    {
     "name": "stdout",
     "output_type": "stream",
     "text": [
      "The optimal value is: 5\n"
     ]
    }
   ],
   "source": [
    "import math\n",
    "\n",
    "\n",
    "def minimax(depth, nodeIndex, isMax, scores, height):\n",
    "    \n",
    "    if depth == height:\n",
    "        return scores[nodeIndex]\n",
    "\n",
    "    \n",
    "    if isMax:\n",
    "        return max(minimax(depth + 1, nodeIndex * 2, False, scores, height),\n",
    "                   minimax(depth + 1, nodeIndex * 2 + 1, False, scores, height))\n",
    "    \n",
    "    \n",
    "    else:\n",
    "        return min(minimax(depth + 1, nodeIndex * 2, True, scores, height),\n",
    "                   minimax(depth + 1, nodeIndex * 2 + 1, True, scores, height))\n",
    "\n",
    "\n",
    "if __name__ == \"__main__\":\n",
    "    scores = [3, 5, 6, 9, 1, 2, 0, -1]  \n",
    "    height = math.log2(len(scores))  \n",
    "    \n",
    "    optimal_value = minimax(0, 0, True, scores, int(height))\n",
    "    print(\"The optimal value is:\", optimal_value)\n",
    "\n"
   ]
  },
  {
   "cell_type": "code",
   "execution_count": null,
   "metadata": {},
   "outputs": [],
   "source": []
  }
 ],
 "metadata": {
  "kernelspec": {
   "display_name": "base",
   "language": "python",
   "name": "python3"
  },
  "language_info": {
   "codemirror_mode": {
    "name": "ipython",
    "version": 3
   },
   "file_extension": ".py",
   "mimetype": "text/x-python",
   "name": "python",
   "nbconvert_exporter": "python",
   "pygments_lexer": "ipython3",
   "version": "3.11.5"
  }
 },
 "nbformat": 4,
 "nbformat_minor": 2
}
