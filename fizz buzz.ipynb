{
 "cells": [
  {
   "cell_type": "code",
   "execution_count": 1,
   "metadata": {},
   "outputs": [
    {
     "name": "stdout",
     "output_type": "stream",
     "text": [
      "Welcome to the FizzBuzz game!\n",
      "Type 'end' to quit the game.\n",
      "\n",
      "2\n",
      "Fizz\n",
      "Buzz\n",
      "Fizz-Buzz\n",
      "Thanks for playing FizzBuzz!\n"
     ]
    }
   ],
   "source": [
    "def fizzbuzz():\n",
    "    print(\"Welcome to the game!\")\n",
    "    print(\"Type 'end' to quit the game.\\n\")\n",
    "\n",
    "    turn = 1\n",
    "    for _ in range(100):\n",
    "        choice = input(f\"Player {turn}, enter a number.....\")\n",
    "\n",
    "        if choice.lower() == 'end':\n",
    "            print(\"Thanks for playing FizzBuzz!\")\n",
    "            break\n",
    "\n",
    "        try:\n",
    "            n = int(choice)\n",
    "        except ValueError:\n",
    "            print(\"Invalid input\")\n",
    "            continue\n",
    "\n",
    "        result = \"\"\n",
    "\n",
    "        if n % 3 == 0 and n % 5 == 0:\n",
    "            result = 'Fizz-Buzz'\n",
    "        elif n % 3 == 0:\n",
    "            result = \"Fizz\"\n",
    "        elif n % 5 == 0:\n",
    "            result = \"Buzz\"\n",
    "        else:\n",
    "            result = str(n)\n",
    "\n",
    "        print(result)\n",
    "\n",
    "        turn = 2 if turn == 1 else 1\n",
    "\n",
    "fizzbuzz()\n",
    "\n"
   ]
  }
 ],
 "metadata": {
  "kernelspec": {
   "display_name": "base",
   "language": "python",
   "name": "python3"
  },
  "language_info": {
   "codemirror_mode": {
    "name": "ipython",
    "version": 3
   },
   "file_extension": ".py",
   "mimetype": "text/x-python",
   "name": "python",
   "nbconvert_exporter": "python",
   "pygments_lexer": "ipython3",
   "version": "3.11.5"
  }
 },
 "nbformat": 4,
 "nbformat_minor": 2
}
