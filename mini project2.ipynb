{
 "cells": [
  {
   "cell_type": "code",
   "execution_count": 8,
   "metadata": {},
   "outputs": [
    {
     "name": "stdout",
     "output_type": "stream",
     "text": [
      "Movies are successfully added.....\n",
      "The average budget is: $166,687,500.00\n",
      "Movie that's budjet is greater than average: $('Pirates of the Caribbean: On Stranger Tides', 379000000)\n",
      "Movie that's budjet is greater than average: $('Avengers: Age of Ultron', 365000000)\n",
      "Movie that's budjet is greater than average: $('Avengers: Endgame', 356000000)\n",
      "Movie that's budjet is greater than average: $('Incredibles 2', 200000000)\n",
      "Movie that's budjet is greater than average: $('life story', 4900003000)\n"
     ]
    }
   ],
   "source": [
    "movies = [\n",
    "    (\"Eternal Sunshine of the Spotless Mind\", 20000000),\n",
    "    (\"Memento\", 9000000),\n",
    "    (\"Requiem for a Dream\", 4500000),\n",
    "    (\"Pirates of the Caribbean: On Stranger Tides\", 379000000),\n",
    "    (\"Avengers: Age of Ultron\", 365000000),\n",
    "    (\"Avengers: Endgame\", 356000000),\n",
    "    (\"Incredibles 2\", 200000000)\n",
    "]\n",
    "\n",
    "\n",
    "num_movies_add = int(input(\"enter number of movies to add.\"))\n",
    "\n",
    "for i in range(0,num_movies_add):\n",
    "     movie_name = input(\"enter the name of movie to add\")\n",
    "     budget = int(input(\"enter the budget of movie\"))\n",
    "     movies.append((movie_name,budget))\n",
    "     print(\"Movies are successfully added.....\")\n",
    "     \n",
    "    \n",
    "average_budget = (movies[0][1] + movies[1][1] + movies[2][1] + \n",
    "                  movies[3][1] + movies[4][1] + movies[5][1] + \n",
    "                  movies[6][1]) / len(movies)\n",
    "print(f\"The average budget is: ${average_budget:,.2f}\")\n",
    "\n",
    "\n",
    "\n",
    "for movie in movies:\n",
    "    if movie[0:7][1] > average_budget:\n",
    "         print(f\"Movie that's budjet is greater than average: ${movie}\")\n",
    "\n",
    "            \n"
   ]
  },
  {
   "cell_type": "code",
   "execution_count": 2,
   "metadata": {},
   "outputs": [
    {
     "name": "stdout",
     "output_type": "stream",
     "text": [
      "2 3\n",
      "3 3\n",
      "4 1\n",
      "5 2\n",
      "6 2\n",
      "7 2\n",
      "8 1\n"
     ]
    }
   ],
   "source": [
    "from collections import Counter\n",
    "\n",
    "num = [2,2,3,4,5,6,3,2,6,7,8,3,5,7]\n",
    "\n",
    "freq = Counter(num)\n",
    "\n",
    "for i,value in freq.items():\n",
    "    print(i,value)"
   ]
  },
  {
   "cell_type": "code",
   "execution_count": null,
   "metadata": {},
   "outputs": [],
   "source": []
  }
 ],
 "metadata": {
  "kernelspec": {
   "display_name": "base",
   "language": "python",
   "name": "python3"
  },
  "language_info": {
   "codemirror_mode": {
    "name": "ipython",
    "version": 3
   },
   "file_extension": ".py",
   "mimetype": "text/x-python",
   "name": "python",
   "nbconvert_exporter": "python",
   "pygments_lexer": "ipython3",
   "version": "3.11.5"
  }
 },
 "nbformat": 4,
 "nbformat_minor": 2
}
