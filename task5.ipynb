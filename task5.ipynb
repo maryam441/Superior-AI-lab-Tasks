{
 "cells": [
  {
   "cell_type": "code",
   "execution_count": 2,
   "metadata": {},
   "outputs": [
    {
     "name": "stdout",
     "output_type": "stream",
     "text": [
      "DFS Traversal with Stack: [1, 2, 4, 5, 3]\n"
     ]
    }
   ],
   "source": [
    "class Node:\n",
    "    def __init__(self, value):\n",
    "        self.value = value\n",
    "        self.left = None\n",
    "        self.right = None\n",
    "\n",
    "def dfs_with_stack(root):\n",
    "    if root is None:\n",
    "        return []\n",
    "\n",
    "    stack = [root]\n",
    "    result = []\n",
    "\n",
    "    while stack:\n",
    "        node = stack.pop()\n",
    "        result.append(node.value)\n",
    "\n",
    "        \n",
    "        if node.right:\n",
    "            stack.append(node.right)\n",
    "        if node.left:\n",
    "            stack.append(node.left)\n",
    "\n",
    "    return result\n",
    "\n",
    "\n",
    "root = Node(1)\n",
    "root.left = Node(2)\n",
    "root.right = Node(3)\n",
    "root.left.left = Node(4)\n",
    "root.left.right = Node(5)\n",
    "\n",
    "print(\"DFS Traversal with Stack:\", dfs_with_stack(root))\n",
    "\n"
   ]
  },
  {
   "cell_type": "markdown",
   "metadata": {},
   "source": [
    "Task 2: Research and Implement \"Inorder, Preorder, Postorder\" in DFS\n",
    "Inorder (Left, Root, Right): Traverse left subtree, visit root, then traverse right subtree.\n",
    "Preorder (Root, Left, Right): Visit root, then traverse left subtree, then right subtree.\n",
    "Postorder (Left, Right, Root): Traverse left subtree, then right subtree, then visit root."
   ]
  },
  {
   "cell_type": "code",
   "execution_count": 1,
   "metadata": {},
   "outputs": [
    {
     "name": "stdout",
     "output_type": "stream",
     "text": [
      "Inorder Traversal: [4, 2, 5, 1, 3]\n",
      "Preorder Traversal: [1, 2, 4, 5, 3]\n",
      "Postorder Traversal: [4, 5, 2, 3, 1]\n"
     ]
    }
   ],
   "source": [
    "class Node:\n",
    "    def __init__(self, value):\n",
    "        self.value = value\n",
    "        self.left = None\n",
    "        self.right = None\n",
    "\n",
    "# Inorder Traversal (Left, Root, Right)\n",
    "def inorder_traversal(root):\n",
    "    if root is None:\n",
    "        return []\n",
    "    return inorder_traversal(root.left) + [root.value] + inorder_traversal(root.right)\n",
    "\n",
    "# Preorder Traversal (Root, Left, Right)\n",
    "def preorder_traversal(root):\n",
    "    if root is None:\n",
    "        return []\n",
    "    return [root.value] + preorder_traversal(root.left) + preorder_traversal(root.right)\n",
    "\n",
    "# Postorder Traversal (Left, Right, Root)\n",
    "def postorder_traversal(root):\n",
    "    if root is None:\n",
    "        return []\n",
    "    return postorder_traversal(root.left) + postorder_traversal(root.right) + [root.value]\n",
    "\n",
    "# Example usage\n",
    "root = Node(1)\n",
    "root.left = Node(2)\n",
    "root.right = Node(3)\n",
    "root.left.left = Node(4)\n",
    "root.left.right = Node(5)\n",
    "\n",
    "print(\"Inorder Traversal:\", inorder_traversal(root))\n",
    "print(\"Preorder Traversal:\", preorder_traversal(root))\n",
    "print(\"Postorder Traversal:\", postorder_traversal(root))\n",
    "\n"
   ]
  },
  {
   "cell_type": "code",
   "execution_count": null,
   "metadata": {},
   "outputs": [],
   "source": []
  }
 ],
 "metadata": {
  "kernelspec": {
   "display_name": "base",
   "language": "python",
   "name": "python3"
  },
  "language_info": {
   "codemirror_mode": {
    "name": "ipython",
    "version": 3
   },
   "file_extension": ".py",
   "mimetype": "text/x-python",
   "name": "python",
   "nbconvert_exporter": "python",
   "pygments_lexer": "ipython3",
   "version": "3.11.5"
  }
 },
 "nbformat": 4,
 "nbformat_minor": 2
}
