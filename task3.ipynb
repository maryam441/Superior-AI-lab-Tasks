{
 "cells": [
  {
   "cell_type": "code",
   "execution_count": 1,
   "metadata": {},
   "outputs": [
    {
     "name": "stdout",
     "output_type": "stream",
     "text": [
      "Living Room: Current temp => 18°C. Turn on the heater.\n",
      "Bedroom: Current temp => 22°C. Turn off heater.\n",
      "Kitchen: Current temp => 20°C. Turn on the heater.\n",
      "Guest Room: Current temp => 24°C. Turn off heater.\n"
     ]
    }
   ],
   "source": [
    "class ModelBasedAgent:\n",
    "    def __init__(self, desired_temp):\n",
    "        self.desired_temp = desired_temp\n",
    "        self.models_environment = {}\n",
    "\n",
    "    def sensor(self, room, current_temp):\n",
    "        self.models_environment[room] = current_temp\n",
    "        return current_temp\n",
    "    \n",
    "    def act(self, room):\n",
    "        current_temp = self.models_environment.get(room)\n",
    "\n",
    "        if current_temp is None:\n",
    "            action = \"No data available for this room\"\n",
    "        elif current_temp < self.desired_temp:\n",
    "            action = \"Turn on the heater\"\n",
    "        else:\n",
    "            action = \"Turn off heater\"\n",
    "        return action\n",
    "\n",
    "rooms = {\n",
    "    \"Living Room\": 18,\n",
    "    \"Bedroom\": 22,\n",
    "    \"Kitchen\": 20,\n",
    "    \"Guest Room\": 24\n",
    "}\n",
    "\n",
    "desired_temp = int(input(\"Enter your desired temperature: \"))\n",
    "agent = ModelBasedAgent(desired_temp)\n",
    "\n",
    "for room, temp in rooms.items():\n",
    "    agent.sensor(room, temp)\n",
    "    action = agent.act(room)\n",
    "    print(f\"{room}: Current temp => {temp}°C. {action}.\")\n",
    "\n"
   ]
  },
  {
   "cell_type": "code",
   "execution_count": null,
   "metadata": {},
   "outputs": [],
   "source": []
  }
 ],
 "metadata": {
  "kernelspec": {
   "display_name": "base",
   "language": "python",
   "name": "python3"
  },
  "language_info": {
   "codemirror_mode": {
    "name": "ipython",
    "version": 3
   },
   "file_extension": ".py",
   "mimetype": "text/x-python",
   "name": "python",
   "nbconvert_exporter": "python",
   "pygments_lexer": "ipython3",
   "version": "3.11.5"
  }
 },
 "nbformat": 4,
 "nbformat_minor": 2
}
