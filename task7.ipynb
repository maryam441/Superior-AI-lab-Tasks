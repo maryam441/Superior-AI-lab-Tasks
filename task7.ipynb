{
 "cells": [
  {
   "cell_type": "code",
   "execution_count": 1,
   "metadata": {},
   "outputs": [
    {
     "name": "stdout",
     "output_type": "stream",
     "text": [
      "Path: [(0, 0), (1, 0), (2, 0), (2, 1), (2, 2), (3, 2), (3, 3), (3, 4), (4, 4)]\n"
     ]
    }
   ],
   "source": [
    "class Node:\n",
    "    def __init__(self, position=None, parent=None):\n",
    "        self.position = position\n",
    "        self.parent = parent\n",
    "        self.g = 0  \n",
    "        self.h = 0  \n",
    "        self.f = 0  \n",
    "\n",
    "    def __eq__(self, other):\n",
    "        return self.position == other.position\n",
    "\n",
    "\n",
    "def astar(maze, start, end):\n",
    "    start_node = Node(start, None)\n",
    "    end_node = Node(end, None)\n",
    "\n",
    "    \n",
    "    open_list = []\n",
    "    closed_list = []\n",
    "\n",
    "    \n",
    "    open_list.append(start_node)\n",
    "\n",
    "    \n",
    "    while open_list:\n",
    "        \n",
    "        current_node = min(open_list, key=lambda node: node.f)\n",
    "        open_list.remove(current_node)\n",
    "        closed_list.append(current_node)\n",
    "\n",
    "        \n",
    "        if current_node == end_node:\n",
    "            path = []\n",
    "            while current_node:\n",
    "                path.append(current_node.position)\n",
    "                current_node = current_node.parent\n",
    "            return path[::-1]  \n",
    "\n",
    "        \n",
    "        children = []\n",
    "        for new_position in [(0, -1), (0, 1), (-1, 0), (1, 0)]:  \n",
    "            node_position = (current_node.position[0] + new_position[0], current_node.position[1] + new_position[1])\n",
    "\n",
    "            \n",
    "            if node_position[0] < 0 or node_position[0] >= len(maze) or \\\n",
    "               node_position[1] < 0 or node_position[1] >= len(maze[0]) or \\\n",
    "               maze[node_position[0]][node_position[1]] != 0:\n",
    "                continue  \n",
    "            new_node = Node(node_position, current_node)\n",
    "            children.append(new_node)\n",
    "\n",
    "       \n",
    "        for child in children:\n",
    "            if child in closed_list:\n",
    "                continue\n",
    "\n",
    "           \n",
    "            child.g = current_node.g + 1\n",
    "            child.h = abs(child.position[0] - end_node.position[0]) + abs(child.position[1] - end_node.position[1])  \n",
    "            child.f = child.g + child.h\n",
    "\n",
    "           \n",
    "            if any(open_node for open_node in open_list if child == open_node and child.g > open_node.g):\n",
    "                continue\n",
    "\n",
    "            open_list.append(child)\n",
    "\n",
    "    return None  \n",
    "\n",
    "maze = [[0, 1, 0, 0, 0],\n",
    "        [0, 1, 0, 1, 0],\n",
    "        [0, 0, 0, 1, 0],\n",
    "        [1, 1, 0, 0, 0],\n",
    "        [0, 0, 0, 1, 0]]\n",
    "\n",
    "start = (0, 0)  \n",
    "end = (4, 4)    \n",
    "\n",
    "path = astar(maze, start, end)\n",
    "print(\"Path:\", path)\n",
    "\n"
   ]
  },
  {
   "cell_type": "code",
   "execution_count": null,
   "metadata": {},
   "outputs": [],
   "source": []
  }
 ],
 "metadata": {
  "kernelspec": {
   "display_name": "base",
   "language": "python",
   "name": "python3"
  },
  "language_info": {
   "codemirror_mode": {
    "name": "ipython",
    "version": 3
   },
   "file_extension": ".py",
   "mimetype": "text/x-python",
   "name": "python",
   "nbconvert_exporter": "python",
   "pygments_lexer": "ipython3",
   "version": "3.11.5"
  }
 },
 "nbformat": 4,
 "nbformat_minor": 2
}
