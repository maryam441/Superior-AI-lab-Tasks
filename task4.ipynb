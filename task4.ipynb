{
 "cells": [
  {
   "cell_type": "markdown",
   "metadata": {},
   "source": [
    "TASK1"
   ]
  },
  {
   "cell_type": "code",
   "execution_count": 17,
   "metadata": {},
   "outputs": [
    {
     "name": "stdout",
     "output_type": "stream",
     "text": [
      "This card is invalid...\n"
     ]
    }
   ],
   "source": [
    "def lehun(cardNo):\n",
    "    nsum = 0 #Initializes a variable to store the sum of the digits.\n",
    "\n",
    "    for i in range(len(cardNo) - 1, -1, -1): #2. Loops through the card number from right to left (least significant digit to most significant).\n",
    "        \n",
    "        d = int(cardNo[i]) #Converts the current character to an integer.\n",
    "        \n",
    "        if (len(cardNo) - i) % 2 == 0: # Checks if the current digit is at an even position\n",
    "\n",
    "            d = d * 2 #If the digit is at an even position, doubles its value.\n",
    "            \n",
    "        if d > 9: #If the doubled value is greater than 9, subtracts 9 from it\n",
    "\n",
    "            d -= 9 \n",
    "        nsum += d # Adds the processed digit to the sum.\n",
    "    \n",
    "    if nsum % 10 == 0: #After processing all digits, checks if the sum is divisible by 10.\n",
    "\n",
    "        print(\"This card is valid...\")\n",
    "    else:\n",
    "        print(\"This card is invalid...\")\n",
    "\n",
    "\n",
    "card_no = input(\"Enter card number: \")\n",
    "lehun(card_no)\n",
    "# VISA\n",
    "# MASTER"
   ]
  },
  {
   "cell_type": "markdown",
   "metadata": {},
   "source": [
    "TASK2"
   ]
  },
  {
   "cell_type": "code",
   "execution_count": 1,
   "metadata": {},
   "outputs": [
    {
     "name": "stdout",
     "output_type": "stream",
     "text": [
      "String after removing punctuations: my name is maryam sharif I am student of ds\n"
     ]
    }
   ],
   "source": [
    "def remove_punctuation(value):\n",
    "    punctuations = ['!', '\"', '@', '$', '&', '.', '/', ',', '#', '*', '%', '-', '__', '~', '^', '%', '|', '...', ':', ';', '?']\n",
    "    new_value = value  \n",
    "\n",
    "    for val in value:\n",
    "        if val in punctuations:\n",
    "            new_value = new_value.replace(val, \"\")  \n",
    "\n",
    "    print('String after removing punctuations:', new_value)\n",
    "\n",
    "\n",
    "string_value = input(\"Enter any string of your choice: \")\n",
    "remove_punctuation(string_value)\n",
    "\n"
   ]
  },
  {
   "cell_type": "markdown",
   "metadata": {},
   "source": [
    "Task3"
   ]
  },
  {
   "cell_type": "code",
   "execution_count": 14,
   "metadata": {},
   "outputs": [
    {
     "data": {
      "text/plain": [
       "'abc am ds i of student'"
      ]
     },
     "execution_count": 14,
     "metadata": {},
     "output_type": "execute_result"
    }
   ],
   "source": [
    "def sort_words(text):\n",
    "    text = text.split()\n",
    "    sorted_word = []\n",
    "    for word in text:\n",
    "        inserted = False\n",
    "        for i in range(len(sorted_word)):\n",
    "            if word < sorted_word[i]:\n",
    "                sorted_word.insert(i,word)\n",
    "                inserted = True\n",
    "                break\n",
    "        if not inserted:\n",
    "            sorted_word.append(word)\n",
    "    sorted_word = ' '.join(sorted_word)\n",
    "    return sorted_word\n",
    "\n",
    "text = input(\"enter sentence of your choice\").lower()\n",
    "sort_words(text)"
   ]
  },
  {
   "cell_type": "code",
   "execution_count": null,
   "metadata": {},
   "outputs": [],
   "source": []
  }
 ],
 "metadata": {
  "kernelspec": {
   "display_name": "base",
   "language": "python",
   "name": "python3"
  },
  "language_info": {
   "codemirror_mode": {
    "name": "ipython",
    "version": 3
   },
   "file_extension": ".py",
   "mimetype": "text/x-python",
   "name": "python",
   "nbconvert_exporter": "python",
   "pygments_lexer": "ipython3",
   "version": "3.11.5"
  }
 },
 "nbformat": 4,
 "nbformat_minor": 2
}
